{
  "nbformat": 4,
  "nbformat_minor": 0,
  "metadata": {
    "colab": {
      "name": "Fix Elastic Down issue.ipynb",
      "provenance": [],
      "authorship_tag": "ABX9TyMOFznbd3MJHaCWpFe/b7E1",
      "include_colab_link": true
    },
    "kernelspec": {
      "name": "python3",
      "display_name": "Python 3"
    }
  },
  "cells": [
    {
      "cell_type": "markdown",
      "metadata": {
        "id": "view-in-github",
        "colab_type": "text"
      },
      "source": [
        "<a href=\"https://colab.research.google.com/github/haviv/fake-simple-json-datasource/blob/master/Fix_Elastic_Down_issue.ipynb\" target=\"_parent\"><img src=\"https://colab.research.google.com/assets/colab-badge.svg\" alt=\"Open In Colab\"/></a>"
      ]
    },
    {
      "cell_type": "markdown",
      "metadata": {
        "id": "OYfsIVqyj4O9"
      },
      "source": [
        "This is a text.. explain here blah blah blah\n",
        "**bold text**\n",
        "\n",
        "1.   List item\n",
        "2.   List item\n",
        "\n",
        "new line \n",
        "\n",
        "\n",
        "\n"
      ]
    },
    {
      "cell_type": "code",
      "metadata": {
        "colab": {
          "base_uri": "https://localhost:8080/"
        },
        "id": "LgYt_BUcj3Bb",
        "outputId": "19967d4f-dd46-4167-eeaf-70fdbd68e236"
      },
      "source": [
        "! ls -la"
      ],
      "execution_count": 1,
      "outputs": [
        {
          "output_type": "stream",
          "text": [
            "total 16\n",
            "drwxr-xr-x 1 root root 4096 Feb 16 16:35 .\n",
            "drwxr-xr-x 1 root root 4096 Feb 23 06:25 ..\n",
            "drwxr-xr-x 1 root root 4096 Feb 16 16:35 .config\n",
            "drwxr-xr-x 1 root root 4096 Feb 16 16:35 sample_data\n"
          ],
          "name": "stdout"
        }
      ]
    }
  ]
}